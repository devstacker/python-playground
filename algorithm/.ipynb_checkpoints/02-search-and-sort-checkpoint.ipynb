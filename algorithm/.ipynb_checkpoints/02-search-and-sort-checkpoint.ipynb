{
 "cells": [
  {
   "cell_type": "markdown",
   "metadata": {},
   "source": [
    "# 탐색\n",
    "\n",
    "## 순차탐색(sequential search)\n",
    "리스트 안에 있는 원소를 하나씩 순차적으로 비교하면서 탐색 O(n)"
   ]
  },
  {
   "cell_type": "code",
   "execution_count": 7,
   "metadata": {},
   "outputs": [
    {
     "name": "stdout",
     "output_type": "stream",
     "text": [
      "4\n",
      "1\n",
      "-1\n"
     ]
    }
   ],
   "source": [
    "# 리스트에서 특정 숫자의 위치 찾기\n",
    "# 입력: 리스트 list, 찾는 값 target\n",
    "# 출력: 찾으면 그 값의 위치, 찾지 못하면 -1, 중복값은 앞에있는 값으로 출력\n",
    "\n",
    "def search_list(list, target):\n",
    "    n = len(list)\n",
    "    for i in range(0, n):\n",
    "        if target == list[i]:\n",
    "            return i\n",
    "    return -1\n",
    "\n",
    "\n",
    "list_1 = [19, 20, 23, 22, 40, 90, 20]\n",
    "print(search_list(list_1, 40))\n",
    "print(search_list(list_1, 20))\n",
    "print(search_list(list_1, 100))"
   ]
  },
  {
   "cell_type": "code",
   "execution_count": 23,
   "metadata": {},
   "outputs": [
    {
     "name": "stdout",
     "output_type": "stream",
     "text": [
      "타겟값2의 인덱스\n",
      "[1, 2]\n",
      "타겟값0의 인덱스\n",
      "[]\n",
      "타겟값60의 인덱스\n",
      "[4]\n"
     ]
    }
   ],
   "source": [
    "# 7-1 \n",
    "# 리스트에 찾는 값이 여러 개 있더라도 첫 번째 위치만 결과로 돌려줍니다. \n",
    "# 찾는 값이 나오는 모든 위치를 리스트로 돌려주는 탐색 알고리즘을 만들어 보세요. \n",
    "# 찾는 값이 리스트에 없다면 빈 리스트인 [ ]를 돌려줍니다.\n",
    "\n",
    "def search_list_all(list, target):\n",
    "    n = len(list)\n",
    "    output = []\n",
    "    for i in range(0, n):\n",
    "        if target == list[i]:\n",
    "            output.append(i)\n",
    "            #return output\n",
    "    print(\"타겟값\" +str(target)+\"의 인덱스\")\n",
    "    return output\n",
    "\n",
    "list_2 = [1, 2, 2, 55, 60]\n",
    "print(search_list_all(list_2, 2))\n",
    "print(search_list_all(list_2, 0))\n",
    "print(search_list_all(list_2, 60))"
   ]
  },
  {
   "cell_type": "code",
   "execution_count": 44,
   "metadata": {},
   "outputs": [
    {
     "name": "stdout",
     "output_type": "stream",
     "text": [
      "학생 105번의 이름은 Summer 입니다\n",
      "학생 0번의 해당하는 학생이 없습니다\n"
     ]
    }
   ],
   "source": [
    "# 7-2\n",
    "# 다음과 같이 학생 번호와 이름이 리스트로 주어졌을 때 \n",
    "# 학생 번호를 입력하면 학생 번호에 해당하는 이름을 순차 탐색으로 찾아 돌려주는 함수를 만들어 보세요.\n",
    "# 해당하는 학생 번호가 없으면 물음표(?)를 돌려줍니다.\n",
    "\n",
    "def stu_search(stu_num):\n",
    "    n = len(stu_no)\n",
    "    for i in range(0, n):\n",
    "        if stu_num == stu_no[i]:\n",
    "            return \"학생 \"+str(stu_num)+\"번의 이름은 \"+stu_name[i]+\" 입니다\"\n",
    "    return \"학생 \"+str(stu_num)+\"번의 해당하는 학생이 없습니다\"\n",
    "\n",
    "stu_no = [39, 14, 67, 105]\n",
    "stu_name = [\"Justin\", \"John\", \"Mike\", \"Summer\"]\n",
    "print(stu_search(105))\n",
    "print(stu_search(0))\n"
   ]
  },
  {
   "cell_type": "markdown",
   "metadata": {},
   "source": [
    "# 정렬\n",
    "\n",
    "## 선택정렬\n"
   ]
  },
  {
   "cell_type": "code",
   "execution_count": 70,
   "metadata": {},
   "outputs": [
    {
     "name": "stdout",
     "output_type": "stream",
     "text": [
      "[1, 2, 3, 4, 5]\n"
     ]
    }
   ],
   "source": [
    "# 쉽게 설명한 선택 정렬\n",
    "# 리스트에서 자료를 하나씩 빼낸 후 다시 새로운 리스트에 넣어서 정렬한다\n",
    "\n",
    "def find_min_idx(list):\n",
    "    n = len(list)\n",
    "    min_idx = 0\n",
    "    for i in range(1, n):\n",
    "        if list[i] < list[min_idx]:\n",
    "            min_idx = i\n",
    "    return min_idx\n",
    "\n",
    "#list=[5, 9, 4, 0, 3]\n",
    "#print(find_min_idx(list))\n",
    "\n",
    "def sel_sort(list):\n",
    "    result = []\n",
    "    while list:\n",
    "        min_idx = find_min_idx(list)\n",
    "        value = list.pop(min_idx)\n",
    "        result.append(value)\n",
    "    return result\n",
    "\n",
    "list_3 = [2, 4, 5, 1, 3]\n",
    "print(sel_sort(list_3))\n",
    "    "
   ]
  },
  {
   "cell_type": "code",
   "execution_count": 57,
   "metadata": {},
   "outputs": [
    {
     "data": {
      "text/plain": [
       "[]"
      ]
     },
     "execution_count": 57,
     "metadata": {},
     "output_type": "execute_result"
    }
   ],
   "source": [
    "list_3"
   ]
  },
  {
   "cell_type": "code",
   "execution_count": 62,
   "metadata": {},
   "outputs": [
    {
     "data": {
      "text/plain": [
       "5"
      ]
     },
     "execution_count": 62,
     "metadata": {},
     "output_type": "execute_result"
    },
    {
     "data": {
      "text/plain": [
       "[2, 3, 4]"
      ]
     },
     "execution_count": 62,
     "metadata": {},
     "output_type": "execute_result"
    },
    {
     "data": {
      "text/plain": [
       "2"
      ]
     },
     "execution_count": 62,
     "metadata": {},
     "output_type": "execute_result"
    },
    {
     "data": {
      "text/plain": [
       "[3, 4]"
      ]
     },
     "execution_count": 62,
     "metadata": {},
     "output_type": "execute_result"
    }
   ],
   "source": [
    "list_3 = [2, 3, 4, 5]\n",
    "list_3.pop()\n",
    "list_3\n",
    "list_3.pop(0)\n",
    "list_3"
   ]
  },
  {
   "cell_type": "code",
   "execution_count": 69,
   "metadata": {},
   "outputs": [
    {
     "name": "stdout",
     "output_type": "stream",
     "text": [
      "[1, 4, 5, 2, 3]\n",
      "[1, 2, 5, 4, 3]\n",
      "[1, 2, 3, 4, 5]\n",
      "[1, 2, 3, 4, 5]\n",
      "[1, 2, 3, 4, 5]\n"
     ]
    }
   ],
   "source": [
    "# 일반적인 선택 정렬 알고리즘\n",
    "# 입력: 리스트 list\n",
    "# 출력: 없음(입력으로 주어진 list가 정렬됨)\n",
    "\n",
    "def sel_sort(list):\n",
    "    n = len(list)\n",
    "    for i in range(0, n-1):\n",
    "        min_idx = i\n",
    "        for j in range (i+1, n):\n",
    "            if list[j] < list[min_idx]:\n",
    "                min_idx = j\n",
    "        list[i], list[min_idx] = list[min_idx], list[i]\n",
    "        print(list)\n",
    "        \n",
    "        \n",
    "list_4 = [2, 4, 5, 1, 3]\n",
    "sel_sort(list_4)\n",
    "print(list_4)\n",
    "\n",
    "\n",
    "# | 2 4 5 1 3 ← 시작, 전체 리스트인 2, 4, 5, 1, 3을 대상으로 최솟값을 찾습니다.\n",
    "# | 1 4 5 2 3 ← 최솟값 1을 대상의 가장 왼쪽 값인 2와 바꿉니다.\n",
    "# 1 | 4 5 2 3 ← 1을 대상에서 제외하고 4, 5, 2, 3에서 최솟값을 찾습니다.\n",
    "# 1 | 2 5 4 3 ← 4, 5, 2, 3 중 최솟값인 2를 4와 바꿉니다.\n",
    "# 1 2 | 5 4 3 ← 2를 대상에서 제외하고 5, 4, 3에서 최솟값을 찾습니다.\n",
    "# 1 2 | 3 4 5 ← 5, 4, 3 중 최솟값인 3을 5와 바꿉니다.\n",
    "# 1 2 3 | 4 5 ← 3을 대상에서 제외하고 4, 5에서 최솟값을 찾습니다.\n",
    "# 1 2 3 | 4 5 ← 최솟값 4를 4와 바꿉니다(변화 없음).\n",
    "# 1 2 3 4 | 5 ← 4를 대상에서 제외합니다. 자료가 5 하나만 남았으므로 종료합니다.\n",
    "# 1 2 3 4 5 | ← 최종 결과"
   ]
  },
  {
   "cell_type": "markdown",
   "metadata": {},
   "source": [
    "## 삽입 정렬"
   ]
  },
  {
   "cell_type": "code",
   "execution_count": 82,
   "metadata": {},
   "outputs": [
    {
     "name": "stdout",
     "output_type": "stream",
     "text": [
      "[4, 5, 1, 3, 40, 23] [2]\n",
      "[5, 1, 3, 40, 23] [2, 4]\n",
      "[1, 3, 40, 23] [2, 4, 5]\n",
      "[3, 40, 23] [1, 2, 4, 5]\n",
      "[40, 23] [1, 2, 3, 4, 5]\n",
      "[23] [1, 2, 3, 4, 5, 40]\n",
      "[] [1, 2, 3, 4, 5, 23, 40]\n",
      "[1, 2, 3, 4, 5, 23, 40]\n"
     ]
    }
   ],
   "source": [
    "# 쉽게 설명한 삽입정렬\n",
    "\n",
    "# 리스트 list에서 value가 들어가야할 위치를 돌려주는 함수\n",
    "def find_ins_idx(l, v):\n",
    "    n = len(l)\n",
    "    # 이미 정렬된 리스트 list의 자료를 앞에서부터 차례로 확인해서\n",
    "    for i in range(0, n):\n",
    "        # value 값보다 i번 위치에 있는 자료 값이 크면\n",
    "        # value 가 그 값 바로 앞에 놓여야 정렬 순서가 유지됨\n",
    "        if v < l[i]:\n",
    "            return i\n",
    "    # 적절한 위치를 못 찾았을 때는\n",
    "    # value가 list의 모든 자료보다 크다는 뜻이므로 맨 뒤에 삽입\n",
    "    return n\n",
    "\n",
    "def ins_sort(list):\n",
    "    result = []\n",
    "    while list:\n",
    "        value = list.pop(0) # 기존 리스트에서 한 개를 꺼냄\n",
    "        ins_idx = find_ins_idx(result, value) # 꺼낸 값이 들어갈 적당한 위치 찾기\n",
    "        result.insert(ins_idx, value) # 찾은 위치에 값 삽입\n",
    "        print(list, result)\n",
    "    return result\n",
    "\n",
    "\n",
    "list_5 = [2, 4, 5, 1, 3, 40, 23]\n",
    "print(ins_sort(list_5))\n",
    "\n",
    "\n",
    "            "
   ]
  },
  {
   "cell_type": "code",
   "execution_count": 4,
   "metadata": {},
   "outputs": [
    {
     "name": "stdout",
     "output_type": "stream",
     "text": [
      "[2, 4, 5, 1, 3] i: 1 j: 0 key: 4\n",
      "[2, 4, 5, 1, 3] i: 2 j: 1 key: 5\n",
      "list[j]: 5 key: 1\n",
      "[2, 4, 5, 1, 3]\n",
      "list[j]: 4 key: 1\n",
      "[2, 4, 5, 5, 3]\n",
      "list[j]: 2 key: 1\n",
      "[2, 4, 4, 5, 3]\n",
      "[2, 2, 4, 5, 3] i: 3 j: -1 key: 1\n",
      "list[j]: 5 key: 3\n",
      "[1, 2, 4, 5, 3]\n",
      "list[j]: 4 key: 3\n",
      "[1, 2, 4, 5, 5]\n",
      "[1, 2, 4, 4, 5] i: 4 j: 1 key: 3\n",
      "[1, 2, 3, 4, 5]\n"
     ]
    }
   ],
   "source": [
    "# 일반적인 삽입 정렬 알고리즘\n",
    "\n",
    "def ins_sort(list):\n",
    "    n = len(list)\n",
    "    for i in range(1, n):\n",
    "        key = list[i] # i번째 위치에 있는 값을 key에 저장\n",
    "        # j를 i바로 왼쪽 위치로 저장\n",
    "        j = i-1\n",
    "        # 리스트의 j번 위치에 있는 값과 key를 비교해 key가 삽입될 적절한 위치를 찾음\n",
    "        while j>=0 and list[j] > key:\n",
    "            print(\"list[j]:\",list[j], \", key:\",key)\n",
    "            print(list_6)\n",
    "            list[j+1] = list[j]\n",
    "            j -= 1\n",
    "        print(list, \"i:\", i, \"j:\", j, \"key:\", key)\n",
    "        list[j+1] = key # 찾은 삽입 위치에 key를 저장\n",
    "\n",
    "\n",
    "list_6 = [2, 4, 5, 1, 3]\n",
    "ins_sort(list_6)\n",
    "print(list_6)    \n",
    "\n",
    "\n",
    "# | 2 4 5 1 3 ← 시작\n",
    "# 2 | 4 5 1 3 ← 맨 앞에 있는 2는 옮기지 않아도 됩니다.\n",
    "# 2 | 4 5 1 3 ← 4의 위치를 맞춥니다. 2 바로 다음이므로 위치가 변하지 않습니다.\n",
    "# 2 4 | 5 1 3 ← 대상 범위를 하나 줄입니다.\n",
    "# 2 4 | 5 1 3 ← 5의 위치를 맞춥니다. 4 바로 다음이므로 이번에도 위치가 그대로입니다.\n",
    "# 2 4 5 | 1 3 ← 대상 범위를 하나 줄입니다.\n",
    "# 1 2 4 | 5 3 ← 1의 위치를 맞춥니다. 1은 2, 4, 5보다 작으므로 이 값들을 한 칸씩 오른쪽으로 옮긴 다음 비어 있는 공간에 1을 넣습니다.\n",
    "# 1 2 4 5 | 3 ← 대상 범위를 하나 줄입니다.\n",
    "# 1 2 3 4 | 5 ← 마지막으로 3의 위치를 맞춥니다. 3은 4, 5보다 작으므로 4와 5를 한 칸씩 오른쪽으로 옮긴 다음 비어 있는 공간에 3을 넣습니다.\n",
    "# 1 2 3 4 5 | ← 대상 범위를 하나 줄입니다. 더는 자료가 없으므로 종료합니다(최종 결과). "
   ]
  },
  {
   "cell_type": "markdown",
   "metadata": {},
   "source": [
    "## 병합정렬"
   ]
  },
  {
   "cell_type": "code",
   "execution_count": null,
   "metadata": {},
   "outputs": [],
   "source": []
  }
 ],
 "metadata": {
  "kernelspec": {
   "display_name": "Python 3",
   "language": "python",
   "name": "python3"
  },
  "language_info": {
   "codemirror_mode": {
    "name": "ipython",
    "version": 3
   },
   "file_extension": ".py",
   "mimetype": "text/x-python",
   "name": "python",
   "nbconvert_exporter": "python",
   "pygments_lexer": "ipython3",
   "version": "3.6.4"
  }
 },
 "nbformat": 4,
 "nbformat_minor": 2
}
